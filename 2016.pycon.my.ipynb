{
 "metadata": {
  "name": ""
 },
 "nbformat": 3,
 "nbformat_minor": 0,
 "worksheets": [
  {
   "cells": [
    {
     "cell_type": "markdown",
     "metadata": {
      "slideshow": {
       "slide_type": "slide"
      }
     },
     "source": [
      "**Django Security**\n",
      "===================\n",
      "\n",
      "> A vulnerable Django application     \n",
      "> Securing Django"
     ]
    },
    {
     "cell_type": "markdown",
     "metadata": {
      "slideshow": {
       "slide_type": "slide"
      }
     },
     "source": [
      "za\n",
      "===\n",
      "\n",
      "<img src=\"files/za-double-glasses.jpg\" width=\"300\">\n",
      "\n",
      "_Used to break things now learn to build things_\n",
      "\n",
      "Zaki Akhmad  \n",
      "za.github.io\n",
      "\n",
      "\n"
     ]
    },
    {
     "cell_type": "markdown",
     "metadata": {
      "slideshow": {
       "slide_type": "subslide"
      }
     },
     "source": [
      "Xoxzo\n",
      "=====\n",
      "\n",
      "<img src=\"files/tokyo_tower.jpg\" width=\"800\">"
     ]
    },
    {
     "cell_type": "markdown",
     "metadata": {
      "slideshow": {
       "slide_type": "subslide"
      }
     },
     "source": [
      "Community\n",
      "==========\n",
      "\n",
      "<img src=\"files/members.png\" width=\"800\">"
     ]
    },
    {
     "cell_type": "markdown",
     "metadata": {
      "slideshow": {
       "slide_type": "slide"
      }
     },
     "source": [
      "Outline of the talk\n",
      "===================\n",
      "\n",
      "\n",
      "\n"
     ]
    },
    {
     "cell_type": "markdown",
     "metadata": {
      "slideshow": {
       "slide_type": "fragment"
      }
     },
     "source": [
      "Part 1: A vulnerable Django application\n",
      "---------------------------------------\n",
      "* SQL injection\n",
      "* Command injection\n",
      "* XSS"
     ]
    },
    {
     "cell_type": "markdown",
     "metadata": {
      "slideshow": {
       "slide_type": "fragment"
      }
     },
     "source": [
      "Part 2: Securing Django\n",
      "------------------------\n",
      "* Password validators\n",
      "* Django deployment checklist"
     ]
    },
    {
     "cell_type": "markdown",
     "metadata": {
      "slideshow": {
       "slide_type": "slide"
      }
     },
     "source": [
      "Part 1: A vulnerable Django application\n",
      "======================================="
     ]
    },
    {
     "cell_type": "markdown",
     "metadata": {
      "slideshow": {
       "slide_type": "subslide"
      }
     },
     "source": [
      "Injection\n",
      "==========\n",
      "\n",
      "* SQL injection\n",
      "* Command injection"
     ]
    },
    {
     "cell_type": "markdown",
     "metadata": {
      "slideshow": {
       "slide_type": "subslide"
      }
     },
     "source": [
      "XSS\n",
      "====\n",
      "\n",
      "* Reflected XSS\n",
      "* Stored XSS"
     ]
    },
    {
     "cell_type": "markdown",
     "metadata": {
      "slideshow": {
       "slide_type": "slide"
      }
     },
     "source": [
      "Part 2: Securing Django\n",
      "======================="
     ]
    },
    {
     "cell_type": "markdown",
     "metadata": {
      "slideshow": {
       "slide_type": "subslide"
      }
     },
     "source": [
      "Password\n",
      "=========\n",
      "\n",
      "Username and password are the most common authentication method. New since Django 1.9: [Password Validation](https://docs.djangoproject.com/en/1.10/releases/1.9/#password-validation). This will help you to ensure users have a strong password.\n",
      "\n",
      "* Similar with username\n",
      "* Minimum length\n",
      "* Common password\n",
      "* Numeric password\n"
     ]
    },
    {
     "cell_type": "markdown",
     "metadata": {
      "slideshow": {
       "slide_type": "subslide"
      }
     },
     "source": [
      "Password similar with username\n",
      "------------------------------\n",
      "\n",
      "Username: qwerty  \n",
      "Password: qwerty"
     ]
    },
    {
     "cell_type": "markdown",
     "metadata": {
      "slideshow": {
       "slide_type": "subslide"
      }
     },
     "source": [
      "Minimum length password\n",
      "-----------------------\n",
      "\n",
      "Username: qwerty  \n",
      "Password: qwertyqw"
     ]
    },
    {
     "cell_type": "markdown",
     "metadata": {
      "slideshow": {
       "slide_type": "subslide"
      }
     },
     "source": [
      "Common password\n",
      "----------------\n",
      "\n",
      "Username: qwerty  \n",
      "Password: password123"
     ]
    },
    {
     "cell_type": "markdown",
     "metadata": {
      "slideshow": {
       "slide_type": "subslide"
      }
     },
     "source": [
      "Numeric password\n",
      "-----------------\n",
      "\n",
      "Username: qwerty  \n",
      "Password: NasiLemakPercuma"
     ]
    },
    {
     "cell_type": "markdown",
     "metadata": {
      "slideshow": {
       "slide_type": "subslide"
      }
     },
     "source": [
      "settings.py\n",
      "-----------\n",
      "\n",
      "```\n",
      "AUTH_PASSWORD_VALIDATORS = [ \n",
      "    {   \n",
      "        'NAME': 'django.contrib.auth.password_validation.'\n",
      "                'UserAttributeSimilarityValidator',\n",
      "    },  \n",
      "    {   \n",
      "        'NAME': 'django.contrib.auth.password_validation.'\n",
      "                'MinimumLengthValidator',\n",
      "        'OPTIONS': {'min_length': 9},\n",
      "    },  \n",
      "    {   \n",
      "        'NAME': 'django.contrib.auth.password_validation.'\n",
      "                'CommonPasswordValidator',\n",
      "    },  \n",
      "    {   \n",
      "        'NAME': 'django.contrib.auth.password_validation.'\n",
      "                'NumericPasswordValidator',\n",
      "    },  \n",
      "]\n",
      "```"
     ]
    },
    {
     "cell_type": "markdown",
     "metadata": {
      "slideshow": {
       "slide_type": "subslide"
      }
     },
     "source": [
      "Password algorithm\n",
      "-------------------\n",
      "\n",
      "* Don't create and use your own algorithm\n",
      "* md5?"
     ]
    },
    {
     "cell_type": "markdown",
     "metadata": {
      "slideshow": {
       "slide_type": "subslide"
      }
     },
     "source": [
      "Django deployment checklist\n",
      "===========================\n",
      "\n",
      "```\n",
      "./manage.py check --deploy\n",
      "```"
     ]
    },
    {
     "cell_type": "markdown",
     "metadata": {
      "slideshow": {
       "slide_type": "subslide"
      }
     },
     "source": [
      "settings.py\n",
      "------------\n",
      "\n",
      "```\n",
      "ALLOWED_HOSTS = ['localhost']\n",
      "DEBUG = False\n",
      "```"
     ]
    },
    {
     "cell_type": "markdown",
     "metadata": {
      "slideshow": {
       "slide_type": "subslide"
      }
     },
     "source": [
      "SECRET_KEY\n",
      "===========\n",
      "\n",
      "* Don't keep your secret key in version control\n",
      "* Set as environment"
     ]
    },
    {
     "cell_type": "markdown",
     "metadata": {
      "slideshow": {
       "slide_type": "slide"
      }
     },
     "source": [
      "Terima kasih!\n",
      "==============\n",
      "\n",
      "<img src=files/nasi_kandar.jpg width=\"500\" alt=\"Nasi Kandar\"><br/>\n",
      "Nasi Kandar"
     ]
    }
   ],
   "metadata": {}
  }
 ]
}